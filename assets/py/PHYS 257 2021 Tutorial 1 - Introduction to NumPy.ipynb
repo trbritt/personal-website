{
 "cells": [
  {
   "cell_type": "code",
   "execution_count": 2,
   "metadata": {
    "collapsed": true
   },
   "outputs": [],
   "source": [
    "import numpy as np\n",
    "import matplotlib.pyplot as plt"
   ]
  },
  {
   "cell_type": "markdown",
   "metadata": {},
   "source": [
    "# Introduction to NumPy\n",
    "\n",
    "NumPy (Numerical Python) is a Python package that does three things:\n",
    "\n",
    "1. Provides an 'array' object;\n",
    "2. Defines functions that work on those arrays.\n",
    "3. Provides functions to load and save arrays"
   ]
  },
  {
   "cell_type": "markdown",
   "metadata": {},
   "source": [
    "## Section 1: NumPy Arrays\n",
    "\n",
    "NumPy arrays are officially called _ndarray_ because they can be n-dimensional. You can think of an array as a matrix. However, arrays are more flexible: \n",
    "\n",
    "* 0-D array = number;\n",
    "* 1-D array = vector;\n",
    "* 2-D array = matrix;\n",
    "* ... and so on"
   ]
  },
  {
   "cell_type": "markdown",
   "metadata": {},
   "source": [
    "### How to create arrays\n",
    "\n",
    "There are many ways to create arrays. Let's look at a few of them:"
   ]
  },
  {
   "cell_type": "markdown",
   "metadata": {},
   "source": [
    "The easiest way to create an array is to build it from a list. Recall that lists have the form `[...]`"
   ]
  },
  {
   "cell_type": "code",
   "execution_count": null,
   "metadata": {
    "collapsed": true
   },
   "outputs": [],
   "source": [
    "from_list = np.array( [1,2,3,4,5] )\n",
    "print('From list:')\n",
    "print(from_list)"
   ]
  },
  {
   "cell_type": "markdown",
   "metadata": {},
   "source": [
    "You can create a 2-D array from a list of rows. The rows themselves are lists:"
   ]
  },
  {
   "cell_type": "code",
   "execution_count": null,
   "metadata": {
    "collapsed": true
   },
   "outputs": [],
   "source": [
    "identity = np.array([ [1,0,0], [0,1,0], [0,0,1] ])\n",
    "print('3x3 identity matrix:')\n",
    "print(identity)"
   ]
  },
  {
   "cell_type": "markdown",
   "metadata": {},
   "source": [
    "Some NumPy functions make repetitive tasks easier. Look at the following examples:"
   ]
  },
  {
   "cell_type": "code",
   "execution_count": null,
   "metadata": {
    "collapsed": true
   },
   "outputs": [],
   "source": [
    "bunch_of_zeros = np.zeros( shape = (4,4) )\n",
    "print('Using np.zeros:')\n",
    "print(bunch_of_zeros)"
   ]
  },
  {
   "cell_type": "code",
   "execution_count": null,
   "metadata": {
    "collapsed": true
   },
   "outputs": [],
   "source": [
    "bunch_of_ones = np.ones( shape = (2,5) )\n",
    "print('Using np.ones:')\n",
    "print(bunch_of_ones)"
   ]
  },
  {
   "cell_type": "code",
   "execution_count": null,
   "metadata": {
    "collapsed": true
   },
   "outputs": [],
   "source": [
    "identity_matrix = np.eye(3) # 3x3 identity matrix\n",
    "print('Using np.eye:')\n",
    "print(identity_matrix)"
   ]
  },
  {
   "cell_type": "markdown",
   "metadata": {},
   "source": [
    "Ranges are especially useful:"
   ]
  },
  {
   "cell_type": "code",
   "execution_count": null,
   "metadata": {
    "collapsed": true
   },
   "outputs": [],
   "source": [
    "range_by_stepsize = np.arange(start=0, stop=10, step = 1)\n",
    "print('Using np.arange:')\n",
    "print(range_by_stepsize)\n",
    "print()\n",
    "\n",
    "range_by_num_elements = np.linspace(start=0, stop=10, num = 6)\n",
    "print('Using np.linspace:')\n",
    "print(range_by_num_elements)"
   ]
  },
  {
   "cell_type": "markdown",
   "metadata": {},
   "source": [
    "### Array indexing\n",
    "How can I get an element from an array? This is similar to matrices. We use square brackets because parentheses are for function calls:"
   ]
  },
  {
   "cell_type": "code",
   "execution_count": null,
   "metadata": {
    "collapsed": true
   },
   "outputs": [],
   "source": [
    "identity = np.eye(3)\n",
    "\n",
    "# Recall that indexing starts at 0\n",
    "# `identity` is a 3x3 matrix\n",
    "# hence the possible indices are [0, 1, 2]\n",
    "\n",
    "top_left     = identity[0,0]   # row 0, column 0\n",
    "middle       = identity[1,1]\n",
    "bottom_right = identity[2,2]\n",
    "top_right    = identity[0,2]   # row 0, column 2"
   ]
  },
  {
   "cell_type": "markdown",
   "metadata": {},
   "source": [
    "Using indexing, we can modify an array in-place:"
   ]
  },
  {
   "cell_type": "code",
   "execution_count": null,
   "metadata": {
    "collapsed": true
   },
   "outputs": [],
   "source": [
    "identity = np.eye(3)\n",
    "\n",
    "print('Identity matrix:')\n",
    "print(identity)\n",
    "print()\n",
    "\n",
    "identity[0,0] = 9\n",
    "\n",
    "print('Modified element [0,0] to 9:')\n",
    "print(identity)\n",
    "print()\n",
    "\n",
    "identity[1,2] = -2\n",
    "\n",
    "print('Modified element [1,2] to -2:')\n",
    "print(identity)\n",
    "print()"
   ]
  },
  {
   "cell_type": "markdown",
   "metadata": {},
   "source": [
    "### Array slicing\n",
    "\n",
    "__Slicing__ refers to an operation that extracts a part of an array. For example, how to I get a full row or full column?"
   ]
  },
  {
   "cell_type": "code",
   "execution_count": null,
   "metadata": {
    "collapsed": true
   },
   "outputs": [],
   "source": [
    "# Example array `arr` has random integers from 0 to 10\n",
    "# shape (3,4) -> 3 rows, 4 columns\n",
    "shape = (3,4)\n",
    "arr = np.random.randint(0, 10, shape)\n",
    "print('Random array:')\n",
    "print(arr)\n",
    "print()\n",
    "\n",
    "# symbol `:` means all elements in this location\n",
    "# Therefore, you can read the following as:\n",
    "#     \"arr's first row and all columns\n",
    "first_row = arr[0, :]\n",
    "print('First row:')\n",
    "print(first_row)\n",
    "print()\n",
    "\n",
    "# You can read the following as:\n",
    "#     \"arr's row 0 to row 2 (exclusive), and all columns\n",
    "first_two_rows = arr[0:2, :]\n",
    "print('First two rows:')\n",
    "print(first_two_rows)\n",
    "print()\n",
    "\n",
    "# Recall that slicing bounds (e.g. 2:4) exclude the last index\n",
    "# then, 2:4 really means [2, 3] and not [2,3,4]\n",
    "last_two_column = arr[:, 2:4]\n",
    "print('Last two column')\n",
    "print(last_two_column)"
   ]
  },
  {
   "cell_type": "markdown",
   "metadata": {},
   "source": [
    "### Array properties\n",
    "\n",
    "Every NumPy _ndarray_ has built-in properties that you can take advantage of:"
   ]
  },
  {
   "cell_type": "code",
   "execution_count": null,
   "metadata": {
    "collapsed": true
   },
   "outputs": [],
   "source": [
    "arr = np.random.randint(low = 0, high = 10, size = (5,4))\n",
    "print('Random array:')\n",
    "print(arr)\n",
    "print()\n",
    "\n",
    "\n",
    "# Some properties require calculation\n",
    "# They must be called with parentheses, like functions:\n",
    "minimum = arr.min()\n",
    "maximum = arr.max()\n",
    "\n",
    "print('Minimum: ', minimum)\n",
    "print('Maximum: ', maximum)\n",
    "print()\n",
    "\n",
    "# Some properties are pre-calculated\n",
    "# They don't require to be called like functions\n",
    "num_elements = arr.size\n",
    "array_shape = arr.shape\n",
    "\n",
    "print('Number of elements:     ', num_elements)\n",
    "print('Array shape (row, col): ', array_shape)"
   ]
  },
  {
   "cell_type": "markdown",
   "metadata": {},
   "source": [
    "## Section 2: NumPy functions and operations\n",
    "NumPy functions are highly-optimized functions that work on _ndarrays_. What's special about them is that they work on whole arrays, elementwise. Therefore, NumPy functions are perfect for cases when a __for loop__ might make sense."
   ]
  },
  {
   "cell_type": "code",
   "execution_count": null,
   "metadata": {
    "collapsed": true
   },
   "outputs": [],
   "source": [
    "arr = np.random.randint(low = 0, high = 10, size = (4,2))\n",
    "print('Random array:')\n",
    "print(arr)\n",
    "print()\n",
    "\n",
    "# Arithmetic operations {(+), (-), (*), (/), (**), etc} are performed element-wise:\n",
    "squared2 = arr**2\n",
    "plus1 = arr + 1\n",
    "\n",
    "print('arr**2:')\n",
    "print(squared2)\n",
    "print()\n",
    "\n",
    "print('arr + 1:')\n",
    "print(plus1)\n",
    "print()\n",
    "\n",
    "# Non-arithmetic operations are also available:\n",
    "square_root = np.sqrt(arr)\n",
    "print('Square root with np.sqrt:')\n",
    "print(square_root)\n",
    "print()"
   ]
  },
  {
   "cell_type": "markdown",
   "metadata": {},
   "source": [
    "### Combining NumPy functions into your own functions\n",
    "\n",
    "Using NumPy functions and operations, we can create our own functions that work on number __and__ arrays of numbers at the same time.\n",
    "\n",
    "As an example, let's implement a function that calculates the following function:\n",
    "\n",
    "$$ L(x, x_0, w) = \\frac{1}{\\pi} \\frac{w}{\\sqrt{(x-x_0)^2 + w^2}} $$"
   ]
  },
  {
   "cell_type": "code",
   "execution_count": 3,
   "metadata": {},
   "outputs": [
    {
     "data": {
      "image/png": "[encoded data removed]",
      "text/plain": [
       "<matplotlib.figure.Figure at 0x1a8c6f5ec18>"
      ]
     },
     "metadata": {},
     "output_type": "display_data"
    }
   ],
   "source": [
    "# Syntax is always the same:\n",
    "#\n",
    "# def function_name(param1, param2, optional1 = default1, optional2 = default2, ...):\n",
    "#     (... calculations ...)\n",
    "#     (... calculations ...)\n",
    "#     return result\n",
    "\n",
    "def func(x, center = 0, width = 1):\n",
    "    numerator = width / np.pi\n",
    "    denominator = np.sqrt( (x - center)**2 + width**2 )\n",
    "    return numerator / denominator\n",
    "\n",
    "# Example plot for this function\n",
    "# Note that center and width are optional parameters\n",
    "# I've chosen to keep them at their default values\n",
    "x = np.linspace(-4, 4, 1024)\n",
    "y = func(x)\n",
    "\n",
    "plt.figure()\n",
    "plt.plot(x, y)\n",
    "plt.show()"
   ]
  },
  {
   "cell_type": "markdown",
   "metadata": {},
   "source": [
    "## Section 3 : Loading and saving\n",
    "\n",
    "To use NumPy with your data, there are ways to load data from a file into NumPy arrays, and save the resulting computations to a file."
   ]
  },
  {
   "cell_type": "markdown",
   "metadata": {},
   "source": [
    "### Loading data : np.loadtxt\n",
    "\n",
    "While there are many loading functions available in NumPy, a common one is [loadtxt](https://docs.scipy.org/doc/numpy/reference/generated/numpy.loadtxt.html). This functions is called `loadtxt` because it works on all text-based formats (e.g. `*.txt` and `*.csv`)\n",
    "\n",
    "__The next cell creates a `tutorial.csv` file that we can then feed into `loadtxt`. Ignore it for now__ "
   ]
  },
  {
   "cell_type": "code",
   "execution_count": null,
   "metadata": {
    "collapsed": true
   },
   "outputs": [],
   "source": [
    "np.savetxt('tutorial.csv',\n",
    "           np.random.randint(0, 100, size = (20, 5)),\n",
    "           delimiter = ',')"
   ]
  },
  {
   "cell_type": "markdown",
   "metadata": {},
   "source": [
    "To load numerical data from a file, we must know two things:\n",
    "\n",
    "1. What is the file name?\n",
    "2. What character is used to delimit numbers?\n",
    "\n",
    "The file name is straightforward. However, the delimiter will depend on your input file. For the `CSV` format (which means __C__omma __S__eparated __V__alues, the delimiter is a _comma_."
   ]
  },
  {
   "cell_type": "code",
   "execution_count": null,
   "metadata": {
    "collapsed": true
   },
   "outputs": [],
   "source": [
    "# Don't forget to assign the loaded data to a name to which you can refer later\n",
    "# In this case, it is `loaded_from_file`\n",
    "\n",
    "loaded_from_file = np.loadtxt('tutorial.csv', delimiter = ',')\n",
    "print('Loaded data:')\n",
    "print(loaded_from_file)"
   ]
  },
  {
   "cell_type": "markdown",
   "metadata": {},
   "source": [
    "### Saving data : np.savetxt\n",
    "\n",
    "The counterpart to `loadtxt` is [savetxt](https://docs.scipy.org/doc/numpy/reference/generated/numpy.savetxt.html). `savetxt` can save an array (__only one__) to a file.\n",
    "\n",
    "It's pretty much self-explanatory once you know how `loadtxt` works."
   ]
  },
  {
   "cell_type": "code",
   "execution_count": null,
   "metadata": {
    "collapsed": true
   },
   "outputs": [],
   "source": [
    "array_to_save = np.zeros( shape = (20, 5) )\n",
    "\n",
    "np.savetxt('new.csv', array_to_save, delimiter = ',')"
   ]
  },
  {
   "cell_type": "markdown",
   "metadata": {},
   "source": [
    "## Notebook cleanup\n",
    "\n",
    "The following cell will clean up the files `tutorial.csv` and `new.csv` that were created by the notebook"
   ]
  },
  {
   "cell_type": "code",
   "execution_count": null,
   "metadata": {
    "collapsed": true
   },
   "outputs": [],
   "source": [
    "from os import remove\n",
    "from contextlib import suppress\n",
    "\n",
    "with suppress(FileNotFoundError):\n",
    "    for fname in ('tutorial.csv', 'new.csv'):\n",
    "        remove(fname)"
   ]
  },
  {
   "cell_type": "code",
   "execution_count": null,
   "metadata": {
    "collapsed": true
   },
   "outputs": [],
   "source": []
  }
 ],
 "metadata": {
  "kernelspec": {
   "display_name": "Python 3",
   "language": "python",
   "name": "python3"
  },
  "language_info": {
   "codemirror_mode": {
    "name": "ipython",
    "version": 3
   },
   "file_extension": ".py",
   "mimetype": "text/x-python",
   "name": "python",
   "nbconvert_exporter": "python",
   "pygments_lexer": "ipython3",
   "version": "3.7.11"
  }
 },
 "nbformat": 4,
 "nbformat_minor": 2
}
